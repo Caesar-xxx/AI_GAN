{
 "cells": [
  {
   "cell_type": "code",
   "execution_count": null,
   "id": "228a445c-3516-4c8f-9bec-16e846b8a95b",
   "metadata": {},
   "outputs": [],
   "source": [
    "# 导入相关包\n",
    "import tensorflow as tf\n",
    "import matplotlib.pyplot as plt\n",
    "import time"
   ]
  },
  {
   "cell_type": "code",
   "execution_count": null,
   "id": "3509b662-68f4-4536-adfd-4d2ed4eb7467",
   "metadata": {},
   "outputs": [],
   "source": [
    "G_model =  tf.keras.models.load_model('./data/minist_G_model')"
   ]
  },
  {
   "cell_type": "code",
   "execution_count": null,
   "id": "573d0d8a-351b-416d-8e67-1b8580d731ae",
   "metadata": {},
   "outputs": [],
   "source": [
    "def randomGenerate():\n",
    "    noise_seed = tf.random.normal([16, 100])\n",
    "    predictions = G_model(noise_seed, training=False)\n",
    "    fig = plt.figure(figsize=(4, 4))\n",
    "    for i in range(predictions.shape[0]):\n",
    "        plt.subplot(4, 4, i+1)\n",
    "        \n",
    "        plt.imshow(predictions[i] *127.5 + 127.5, cmap='gray')\n",
    "        plt.axis('off')\n",
    "    plt.show()"
   ]
  },
  {
   "cell_type": "code",
   "execution_count": null,
   "id": "44baee14-6002-492c-ba0b-3c1bd0d28f1a",
   "metadata": {},
   "outputs": [],
   "source": [
    "from IPython.display import clear_output"
   ]
  },
  {
   "cell_type": "code",
   "execution_count": null,
   "id": "0778beb2-1324-418d-839f-fd4578dd9920",
   "metadata": {},
   "outputs": [],
   "source": [
    "count = 0\n",
    "while True:\n",
    "    randomGenerate()\n",
    "    clear_output(wait=True)\n",
    "    time.sleep(0.1)\n",
    "    # if count > 20:\n",
    "    #     break\n",
    "    count+=1\n"
   ]
  },
  {
   "cell_type": "code",
   "execution_count": null,
   "id": "f02ad7d9-2882-4697-b89c-f5ce26870660",
   "metadata": {},
   "outputs": [],
   "source": []
  },
  {
   "cell_type": "code",
   "execution_count": null,
   "id": "8efa439d-1193-4cc5-9533-0135a5de3647",
   "metadata": {},
   "outputs": [],
   "source": []
  }
 ],
 "metadata": {
  "kernelspec": {
   "display_name": "Python 3 (ipykernel)",
   "language": "python",
   "name": "python3"
  },
  "language_info": {
   "codemirror_mode": {
    "name": "ipython",
    "version": 3
   },
   "file_extension": ".py",
   "mimetype": "text/x-python",
   "name": "python",
   "nbconvert_exporter": "python",
   "pygments_lexer": "ipython3",
   "version": "3.8.13"
  }
 },
 "nbformat": 4,
 "nbformat_minor": 5
}
