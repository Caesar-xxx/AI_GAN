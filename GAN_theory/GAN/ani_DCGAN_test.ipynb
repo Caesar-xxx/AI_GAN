{
 "cells": [
  {
   "cell_type": "code",
   "execution_count": null,
   "id": "228a445c-3516-4c8f-9bec-16e846b8a95b",
   "metadata": {},
   "outputs": [],
   "source": [
    "# 导入相关包\n",
    "import tensorflow as tf\n",
    "import matplotlib.pyplot as plt\n",
    "import time\n",
    "import glob\n",
    "from IPython.display import clear_output"
   ]
  },
  {
   "cell_type": "code",
   "execution_count": null,
   "id": "28475fef-6950-456f-80ca-09dc385817d3",
   "metadata": {},
   "outputs": [],
   "source": [
    "## 查看训练过程中的变化图"
   ]
  },
  {
   "cell_type": "code",
   "execution_count": null,
   "id": "732d5b86-3065-4980-ba06-0116b10448a4",
   "metadata": {},
   "outputs": [],
   "source": [
    "ani_files = glob.glob('./gen_ani/*.png')"
   ]
  },
  {
   "cell_type": "code",
   "execution_count": null,
   "id": "7884fa67-4750-46f4-b7d1-76ccb98f884f",
   "metadata": {},
   "outputs": [],
   "source": [
    "len(ani_files)"
   ]
  },
  {
   "cell_type": "code",
   "execution_count": null,
   "id": "d3c74847-82ac-4629-ba75-e100a741c886",
   "metadata": {},
   "outputs": [],
   "source": [
    "# img_list = []\n",
    "# for file in ani_files:\n",
    "#     img = plt.imread(file)\n",
    "#     img_list.append(img)\n",
    "    \n",
    "# for i in range(100):\n",
    "#     # 读取10 张图片\n",
    "#     fig = plt.figure(figsize=(10, 5)) \n",
    "#     for x in range(10):\n",
    "#         plt.subplot(2, 5, x+1)\n",
    "#         plt.imshow(img_list[x+10*i] )\n",
    "#         plt.axis('off')\n",
    "#     plt.show()\n",
    "    \n",
    "#     clear_output(wait=True)\n",
    "#     time.sleep(0.1)"
   ]
  },
  {
   "cell_type": "code",
   "execution_count": null,
   "id": "06866bfc-2a86-434b-9d58-b1d775f14fab",
   "metadata": {},
   "outputs": [],
   "source": [
    "## 查看模型生成图"
   ]
  },
  {
   "cell_type": "code",
   "execution_count": null,
   "id": "3509b662-68f4-4536-adfd-4d2ed4eb7467",
   "metadata": {},
   "outputs": [],
   "source": [
    "G_model =  tf.keras.models.load_model('./data/ani_G_model/')"
   ]
  },
  {
   "cell_type": "code",
   "execution_count": null,
   "id": "573d0d8a-351b-416d-8e67-1b8580d731ae",
   "metadata": {},
   "outputs": [],
   "source": [
    "def randomGenerate():\n",
    "    noise_seed = tf.random.normal([16, 128])\n",
    "    predictions = G_model(noise_seed, training=False)\n",
    "    fig = plt.figure(figsize=(8, 8))\n",
    "    for i in range(predictions.shape[0]):\n",
    "        plt.subplot(4, 4, i+1)\n",
    "        img = (predictions[i].numpy() * 255 ).astype('int')\n",
    "        plt.imshow(img )\n",
    "        plt.axis('off')\n",
    "    plt.show()"
   ]
  },
  {
   "cell_type": "code",
   "execution_count": null,
   "id": "0778beb2-1324-418d-839f-fd4578dd9920",
   "metadata": {},
   "outputs": [],
   "source": [
    "count = 0\n",
    "while True:\n",
    "    randomGenerate()\n",
    "    clear_output(wait=True)\n",
    "    time.sleep(0.1)\n",
    "    if count > 20000:\n",
    "        break\n",
    "    count+=1\n"
   ]
  },
  {
   "cell_type": "code",
   "execution_count": null,
   "id": "f02ad7d9-2882-4697-b89c-f5ce26870660",
   "metadata": {},
   "outputs": [],
   "source": []
  },
  {
   "cell_type": "code",
   "execution_count": null,
   "id": "8efa439d-1193-4cc5-9533-0135a5de3647",
   "metadata": {},
   "outputs": [],
   "source": []
  }
 ],
 "metadata": {
  "kernelspec": {
   "display_name": "Python 3 (ipykernel)",
   "language": "python",
   "name": "python3"
  },
  "language_info": {
   "codemirror_mode": {
    "name": "ipython",
    "version": 3
   },
   "file_extension": ".py",
   "mimetype": "text/x-python",
   "name": "python",
   "nbconvert_exporter": "python",
   "pygments_lexer": "ipython3",
   "version": "3.8.13"
  }
 },
 "nbformat": 4,
 "nbformat_minor": 5
}
