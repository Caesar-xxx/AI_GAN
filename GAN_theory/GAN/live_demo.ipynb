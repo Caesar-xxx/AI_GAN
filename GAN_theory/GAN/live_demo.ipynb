{
 "cells": [
  {
   "cell_type": "code",
   "execution_count": null,
   "id": "9b13770b-2fae-4bb0-b03c-438e9e00575b",
   "metadata": {},
   "outputs": [],
   "source": [
    "# DCGAN搭建并训练的步骤\n",
    "# 1.导入数据\n",
    "# 2.数据预处理（[-1,1]）\n",
    "# 3.搭建G生成器模型\n",
    "# 4.搭建D判别者模型\n",
    "# 5.构建训练步骤\n",
    "# 6.训练\n",
    "# 7.保存模型\n",
    "# 8.测试G模型效果"
   ]
  },
  {
   "cell_type": "code",
   "execution_count": null,
   "id": "369e140f-fe10-402f-8a3d-e6abb75db995",
   "metadata": {},
   "outputs": [],
   "source": [
    "# 导入相关保\n",
    "import tensorflow as tf\n",
    "from tensorflow.keras import layers\n",
    "import numpy as np\n",
    "import matplotlib.pyplot as plt\n",
    "%matplotlib inline"
   ]
  },
  {
   "cell_type": "code",
   "execution_count": null,
   "id": "06afdd23-9091-418d-8b28-654f7dec9561",
   "metadata": {},
   "outputs": [],
   "source": [
    "# 看一下GPU有没有利用\n",
    "tf.config.list_physical_devices('GPU')\n"
   ]
  },
  {
   "cell_type": "code",
   "execution_count": null,
   "id": "83833bbb-e55d-462f-a001-600873c29aa0",
   "metadata": {},
   "outputs": [],
   "source": [
    "# 导入数据"
   ]
  },
  {
   "cell_type": "code",
   "execution_count": null,
   "id": "1f739740-de67-48ee-a6ae-085c4a49b5e9",
   "metadata": {},
   "outputs": [],
   "source": [
    "(train_img,train_labels),(test_imgs,test_labels) = tf.keras.datasets.mnist.load_data()"
   ]
  },
  {
   "cell_type": "code",
   "execution_count": null,
   "id": "ab4d9290-0874-4ecb-9198-a161eea79915",
   "metadata": {},
   "outputs": [],
   "source": [
    "# 查看大小\n",
    "train_img.shape"
   ]
  },
  {
   "cell_type": "code",
   "execution_count": null,
   "id": "d9646213-3966-45f2-8eb9-7fac40ef9b63",
   "metadata": {},
   "outputs": [],
   "source": [
    "# 增加维度\n",
    "train_img = train_img.reshape(-1,28,28,1).astype('float32')"
   ]
  },
  {
   "cell_type": "code",
   "execution_count": null,
   "id": "ddeab3d0-ad9b-42da-9dce-7c197fc30a84",
   "metadata": {},
   "outputs": [],
   "source": [
    "train_img.shape"
   ]
  },
  {
   "cell_type": "code",
   "execution_count": null,
   "id": "fa2d797c-3295-447e-a43e-b0a349045ea0",
   "metadata": {},
   "outputs": [],
   "source": [
    "train_img.max(),train_img.min()"
   ]
  },
  {
   "cell_type": "code",
   "execution_count": null,
   "id": "06a6e386-51b8-40c4-8bf3-aea7ca89c866",
   "metadata": {},
   "outputs": [],
   "source": [
    "# 变成[-1,1]\n",
    "train_img = (train_img - 127.5) / 127.5"
   ]
  },
  {
   "cell_type": "code",
   "execution_count": null,
   "id": "7dbc28fc-44cf-404b-8e01-d9bd5c884c52",
   "metadata": {},
   "outputs": [],
   "source": [
    "train_img.max(),train_img.min()"
   ]
  },
  {
   "cell_type": "code",
   "execution_count": null,
   "id": "da928516-b261-4c4a-a7b7-1e2a772b6d99",
   "metadata": {},
   "outputs": [],
   "source": [
    "# 分批次"
   ]
  },
  {
   "cell_type": "code",
   "execution_count": null,
   "id": "6d68c517-ed9d-4237-832b-80d2c4f40ed8",
   "metadata": {},
   "outputs": [],
   "source": [
    "# 批次数量\n",
    "BATCH_SIZE = 128"
   ]
  },
  {
   "cell_type": "code",
   "execution_count": null,
   "id": "7def4371-6cd0-49e3-871a-7d955f9cfa60",
   "metadata": {},
   "outputs": [],
   "source": [
    "\n",
    "train_dataset = tf.data.Dataset.from_tensor_slices(train_img).shuffle(60000).batch(BATCH_SIZE)"
   ]
  },
  {
   "cell_type": "code",
   "execution_count": null,
   "id": "148b61bf-e663-49ef-aa54-b2c88a7819b8",
   "metadata": {},
   "outputs": [],
   "source": [
    "train_dataset"
   ]
  },
  {
   "cell_type": "code",
   "execution_count": null,
   "id": "3c667a00-f5e0-4462-86f4-22174ef22715",
   "metadata": {},
   "outputs": [],
   "source": [
    "# 取一张图来测试\n",
    "for x in train_dataset:\n",
    "    plt.imshow((x[0]*  127.5 +  127.5) ,cmap='gray')\n",
    "    break"
   ]
  },
  {
   "cell_type": "code",
   "execution_count": null,
   "id": "a52e9ed1-f756-488d-b96b-606a33cd44d5",
   "metadata": {},
   "outputs": [],
   "source": [
    "# 搭建G生成者网络"
   ]
  },
  {
   "cell_type": "markdown",
   "id": "8f56a424-922f-4bc9-8176-f43d8c157799",
   "metadata": {},
   "source": [
    "![](./data/model_arc.png)"
   ]
  },
  {
   "cell_type": "code",
   "execution_count": null,
   "id": "a4b30c57-9e16-4202-bcda-467464ea989f",
   "metadata": {},
   "outputs": [],
   "source": [
    "# 搭建G网络"
   ]
  },
  {
   "cell_type": "code",
   "execution_count": null,
   "id": "c9c6c512-a3b8-43ea-9e6d-b7e8035d45d8",
   "metadata": {},
   "outputs": [],
   "source": [
    "G_model = tf.keras.Sequential([\n",
    "    \n",
    "    # input 100\n",
    "    # output 7  x 7 x 256\n",
    "    layers.Dense(7  * 7 * 256,input_shape=(100,),use_bias=False),\n",
    "    # BN\n",
    "    layers.BatchNormalization(),\n",
    "    # ReLU\n",
    "    layers.LeakyReLU(),\n",
    "    # reshape\n",
    "    layers.Reshape((7,7,256)),\n",
    "    \n",
    "    # input : 7  x 7 x 256\n",
    "    # output: 7 x 7 x 128\n",
    "    layers.Conv2DTranspose(128,5,1,padding='same',use_bias=False),\n",
    "    # BN\n",
    "    layers.BatchNormalization(),\n",
    "    # ReLU\n",
    "    layers.LeakyReLU(),\n",
    "    \n",
    "    \n",
    "    # input 7 x7 x 128\n",
    "    # output 14 x 14 x 64\n",
    "    layers.Conv2DTranspose(64,5,2,padding='same',use_bias=False),\n",
    "    # BN\n",
    "    layers.BatchNormalization(),\n",
    "    # ReLU\n",
    "    layers.LeakyReLU(),\n",
    "    \n",
    "    # input 14 x 14 x 64\n",
    "    # output 28 x 28 x 1\n",
    "    layers.Conv2DTranspose(1,5,2,padding='same',activation='tanh')\n",
    "    \n",
    "    \n",
    "])"
   ]
  },
  {
   "cell_type": "code",
   "execution_count": null,
   "id": "ac172a29-8681-4f56-b13b-d3faf5e53f08",
   "metadata": {},
   "outputs": [],
   "source": [
    "G_model.summary()"
   ]
  },
  {
   "cell_type": "code",
   "execution_count": null,
   "id": "b9c24ab4-b0a3-40da-9262-66dfc515867f",
   "metadata": {},
   "outputs": [],
   "source": [
    "# 随机产生一个噪音的向量，输入G网络"
   ]
  },
  {
   "cell_type": "code",
   "execution_count": null,
   "id": "6b11cb42-eb37-4447-be80-a82ef16ffcea",
   "metadata": {},
   "outputs": [],
   "source": [
    "noise_v = tf.random.normal([1,100])"
   ]
  },
  {
   "cell_type": "code",
   "execution_count": null,
   "id": "cd608ab5-bc6f-482c-8ebe-c26682c6210b",
   "metadata": {},
   "outputs": [],
   "source": [
    "generated_imgs = G_model(noise_v,training=False)"
   ]
  },
  {
   "cell_type": "code",
   "execution_count": null,
   "id": "12fe694d-4057-43a1-b1a7-9330f2560c52",
   "metadata": {},
   "outputs": [],
   "source": [
    "plt.imshow((generated_imgs[0]*  127.5 +  127.5) ,cmap='gray')"
   ]
  },
  {
   "cell_type": "code",
   "execution_count": null,
   "id": "1c2e8e0d-18be-4ce5-87da-d7dba4f49aba",
   "metadata": {},
   "outputs": [],
   "source": [
    "# 搭建D判别器网络"
   ]
  },
  {
   "cell_type": "markdown",
   "id": "92a69202-4465-47c2-be2e-5a394f5fd6e6",
   "metadata": {},
   "source": [
    "![](./data/model_arc.png)"
   ]
  },
  {
   "cell_type": "code",
   "execution_count": null,
   "id": "b0a9fc3e-b270-4250-a6dc-d0e2cee3efd0",
   "metadata": {},
   "outputs": [],
   "source": [
    "# 搭建D网络"
   ]
  },
  {
   "cell_type": "code",
   "execution_count": null,
   "id": "6501a494-a24f-47aa-ae58-b18e37733f3c",
   "metadata": {},
   "outputs": [],
   "source": [
    "D_model = tf.keras.Sequential([\n",
    "\n",
    "    #input 28 x 28 x 1\n",
    "    # output 14 x 14 x 64\n",
    "    layers.Conv2D(64,5,2,padding='same',input_shape=(28,28,1)),\n",
    "    # BN\n",
    "    layers.BatchNormalization(),\n",
    "    # ReLU\n",
    "    layers.LeakyReLU(),\n",
    "    # DP\n",
    "    layers.Dropout(0.3),\n",
    "    \n",
    "    # input 14 x 14 x 64\n",
    "    # output 7 x 7 x 128\n",
    "    layers.Conv2D(128,5,2,padding='same'),\n",
    "    # BN\n",
    "    layers.BatchNormalization(),\n",
    "    # ReLU\n",
    "    layers.LeakyReLU(),\n",
    "    # DP\n",
    "    layers.Dropout(0.3),\n",
    "    \n",
    "    # Flatten\n",
    "    layers.Flatten(),\n",
    "    \n",
    "    # Dense\n",
    "    # input 6272\n",
    "    # output 1\n",
    "    layers.Dense(1)\n",
    "    \n",
    "])"
   ]
  },
  {
   "cell_type": "code",
   "execution_count": null,
   "id": "1c536326-c761-4591-b2ef-231871fe8102",
   "metadata": {},
   "outputs": [],
   "source": [
    "D_model.summary()"
   ]
  },
  {
   "cell_type": "code",
   "execution_count": null,
   "id": "51029c24-a0dd-41ae-8f55-083c7ccb9c74",
   "metadata": {},
   "outputs": [],
   "source": [
    "# 将生成的图片输入D，查看输出\n",
    "output = D_model(generated_imgs,training=False)"
   ]
  },
  {
   "cell_type": "code",
   "execution_count": null,
   "id": "98a30bfb-74f0-4592-b222-fda2cfe27fdc",
   "metadata": {},
   "outputs": [],
   "source": [
    "output"
   ]
  },
  {
   "cell_type": "code",
   "execution_count": null,
   "id": "fb1137fa-61ca-42ed-afa6-24fdf5724bec",
   "metadata": {},
   "outputs": [],
   "source": []
  },
  {
   "cell_type": "code",
   "execution_count": null,
   "id": "73211f7e-eeb9-41ef-a98d-8d0072878a7e",
   "metadata": {},
   "outputs": [],
   "source": []
  },
  {
   "cell_type": "code",
   "execution_count": null,
   "id": "ca181146-a18b-441e-ae48-3c81b4e3d383",
   "metadata": {},
   "outputs": [],
   "source": []
  },
  {
   "cell_type": "code",
   "execution_count": null,
   "id": "2541c012-9b04-420e-997a-d99991917df3",
   "metadata": {},
   "outputs": [],
   "source": [
    "# 定义Loss和优化器\n",
    "cross_entropy = tf.keras.losses.BinaryCrossentropy(from_logits=True)\n",
    "# 定义G的优化器\n",
    "G_optimizer = tf.keras.optimizers.Adam(0.0001)\n",
    "# 定义D的优化器\n",
    "D_optimizer = tf.keras.optimizers.Adam(0.0001)"
   ]
  },
  {
   "cell_type": "code",
   "execution_count": null,
   "id": "0407fd9b-e89d-4031-a1ff-81760e44b779",
   "metadata": {},
   "outputs": [],
   "source": [
    "# 构造训练步骤"
   ]
  },
  {
   "cell_type": "code",
   "execution_count": null,
   "id": "e4a8ee5d-fffc-4792-8e43-4142c2c8d902",
   "metadata": {},
   "outputs": [],
   "source": [
    "# 训练判别器：\n",
    "    # 1.真实图片尽量接近1\n",
    "    # 2.伪造的图片尽量接近0\n",
    "\n",
    "# 训练生成器：伪造的图片骗过判别器（伪造的图片被判别器识别为1）"
   ]
  },
  {
   "cell_type": "code",
   "execution_count": null,
   "id": "47385167-7b20-478c-966e-17571dc5fb98",
   "metadata": {},
   "outputs": [],
   "source": [
    "@tf.function\n",
    "def train_step(batch_imgs):\n",
    "    \n",
    "    # 训练判别器：1.真实图片尽量接近1\n",
    "    \n",
    "    # 为了更好记录计算，使用梯度带\n",
    "    with tf.GradientTape() as tape:\n",
    "        # 真实图片前传\n",
    "        real_output = D_model(batch_imgs,training=True)\n",
    "        ones_labels = tf.ones_like(real_output)\n",
    "        # 计算一下LOSS\n",
    "        d_loss = cross_entropy(ones_labels,real_output)\n",
    "        \n",
    "    # 计算梯度\n",
    "    d_gradient = tape.gradient(d_loss,D_model.trainable_variables)\n",
    "    # 优化器优化\n",
    "    D_optimizer.apply_gradients(zip(d_gradient,D_model.trainable_variables))\n",
    "    \n",
    "    # 训练判别器：2.伪造的图片尽量接近0\n",
    "    with tf.GradientTape() as tape:\n",
    "        # 随机产生一个向量\n",
    "        noise_v = tf.random.normal((BATCH_SIZE,100))\n",
    "        # 伪造一张图\n",
    "        fake_img = G_model(noise_v,training=True)\n",
    "        \n",
    "        # 伪造的图输入D，查看输出\n",
    "        fake_output = D_model(fake_img,training=True)\n",
    "        \n",
    "        # 构造全0 的label\n",
    "        zeros_labels = tf.zeros_like(fake_output)\n",
    "        \n",
    "        # 计算loss\n",
    "        d_loss = cross_entropy(zeros_labels,fake_output)\n",
    "        \n",
    "    # 计算梯度\n",
    "    d_gradient = tape.gradient(d_loss,D_model.trainable_variables)\n",
    "    # 反向传播优化\n",
    "    D_optimizer.apply_gradients(zip(d_gradient,D_model.trainable_variables))\n",
    "    \n",
    "    # 训练生成器：伪造的图片骗过判别器（伪造的图片被判别器识别为1）\n",
    "    \n",
    "    with tf.GradientTape() as tape:\n",
    "        # 随机产生一个向量\n",
    "        noise_v = tf.random.normal((BATCH_SIZE,100))\n",
    "        # 伪造图片\n",
    "        fake_img = G_model(noise_v,training=True)\n",
    "        \n",
    "        # 输入判别网络D\n",
    "        fake_out =D_model(fake_img,training=True)\n",
    "        \n",
    "        # 构建全1 labels\n",
    "        ones_labels = tf.ones_like(fake_out)\n",
    "        \n",
    "        # 计算一下loss\n",
    "        g_loss = cross_entropy(ones_labels,fake_out)\n",
    "        \n",
    "    # 计算梯度\n",
    "    g_gradient = tape.gradient(g_loss,G_model.trainable_variables)\n",
    "    # 反向传播优化\n",
    "    G_optimizer.apply_gradients(zip(g_gradient,G_model.trainable_variables))\n",
    "        "
   ]
  },
  {
   "cell_type": "code",
   "execution_count": null,
   "id": "01d44558-5d71-426d-8aa8-ee9abd8e4302",
   "metadata": {},
   "outputs": [],
   "source": [
    "# 开始训练"
   ]
  },
  {
   "cell_type": "code",
   "execution_count": null,
   "id": "86ac6eae-b4c3-474b-b97f-ef251e166c01",
   "metadata": {},
   "outputs": [],
   "source": [
    "EPOCH_NUM = 100"
   ]
  },
  {
   "cell_type": "code",
   "execution_count": null,
   "id": "e1828c82-f533-4c87-a0f5-88c33ffae377",
   "metadata": {},
   "outputs": [],
   "source": [
    "# 构建一个随机向量\n",
    "noise_v = tf.random.normal((16,100))"
   ]
  },
  {
   "cell_type": "code",
   "execution_count": null,
   "id": "05107439-ac7c-4822-ad82-f3555b78a7b4",
   "metadata": {},
   "outputs": [],
   "source": [
    "import time"
   ]
  },
  {
   "cell_type": "code",
   "execution_count": null,
   "id": "22611fdb-61a7-45d7-a201-713139e4a99f",
   "metadata": {},
   "outputs": [],
   "source": [
    "for epoch in range(EPOCH_NUM):\n",
    "    # 记录epoch 开始训练时间\n",
    "    start_time = time.time()\n",
    "    # 取数据\n",
    "    for batch_imgs in train_dataset:\n",
    "        # 进行训练\n",
    "        train_step(batch_imgs)\n",
    "        \n",
    "        \n",
    "    print('第{}个Epoch 执行完毕，耗时{}s'.format(epoch,time.time()-start_time))\n",
    "    \n",
    "    # 查看一个epoch 结束后G网络表现\n",
    "    generated_imgs = G_model(noise_v,training=False)\n",
    "    \n",
    "    # 显示这16张图\n",
    "    fig = plt.figure(figsize=(4,4))\n",
    "    for i in range(16):\n",
    "        plt.subplot(4,4,i+1)\n",
    "        plt.imshow((generated_imgs[i]*  127.5 +  127.5) ,cmap='gray')\n",
    "        plt.axis('off')\n",
    "    plt.show()"
   ]
  }
 ],
 "metadata": {
  "kernelspec": {
   "display_name": "Python 3 (ipykernel)",
   "language": "python",
   "name": "python3"
  },
  "language_info": {
   "codemirror_mode": {
    "name": "ipython",
    "version": 3
   },
   "file_extension": ".py",
   "mimetype": "text/x-python",
   "name": "python",
   "nbconvert_exporter": "python",
   "pygments_lexer": "ipython3",
   "version": "3.8.13"
  }
 },
 "nbformat": 4,
 "nbformat_minor": 5
}
