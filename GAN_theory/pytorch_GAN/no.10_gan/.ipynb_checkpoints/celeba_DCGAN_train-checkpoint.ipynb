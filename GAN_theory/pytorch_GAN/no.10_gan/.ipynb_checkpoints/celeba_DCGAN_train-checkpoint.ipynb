{
 "cells": [
  {
   "cell_type": "code",
   "execution_count": null,
   "id": "35700385-e7ec-4fb9-9639-15b5171ba765",
   "metadata": {},
   "outputs": [],
   "source": [
    "# 导入相关包\n",
    "import torch\n",
    "import numpy as np\n",
    "import matplotlib.pyplot as plt\n",
    "import torchvision.datasets as tdst\n",
    "# 预处理\n",
    "import torchvision.transforms as transforms\n",
    "import torch.optim as optim\n",
    "\n",
    "# 模型架构可视化\n",
    "from torchsummary import summary"
   ]
  },
  {
   "cell_type": "code",
   "execution_count": null,
   "id": "e8c066e4-b7ce-4997-971b-08b7c8d4cf94",
   "metadata": {},
   "outputs": [],
   "source": [
    "# 显示一张原图\n",
    "img = plt.imread('data/img_align_celeba/000008.jpg')"
   ]
  },
  {
   "cell_type": "code",
   "execution_count": null,
   "id": "60715bd9-4ddf-44fc-8438-6907f2e5e60e",
   "metadata": {},
   "outputs": [],
   "source": [
    "img.shape"
   ]
  },
  {
   "cell_type": "code",
   "execution_count": null,
   "id": "c1d4323c-2d5d-4c86-80e4-44987ffdbeec",
   "metadata": {},
   "outputs": [],
   "source": [
    "plt.imshow(img)"
   ]
  },
  {
   "cell_type": "code",
   "execution_count": null,
   "id": "bb40a953-f5f0-4e0b-bac0-7fa596c0db7e",
   "metadata": {},
   "outputs": [],
   "source": [
    "# 导入数据"
   ]
  },
  {
   "cell_type": "code",
   "execution_count": null,
   "id": "eee3fb1b-c350-4bf1-ad59-7285dce55564",
   "metadata": {},
   "outputs": [],
   "source": [
    "img_size = 64"
   ]
  },
  {
   "cell_type": "code",
   "execution_count": null,
   "id": "4a5118a7-50eb-480a-9af2-dbd9727c52b7",
   "metadata": {},
   "outputs": [],
   "source": [
    "img_preprocess = transforms.Compose([\n",
    "    # 缩放，宽度64，高度自适应\n",
    "    transforms.Resize(img_size),\n",
    "    # 中心裁剪为 64 x 64 的正方形\n",
    "    transforms.CenterCrop(img_size),\n",
    "    # PIL图像转为tensor，归一化到[0,1]：Converts a PIL Image or numpy.ndarray (H x W x C) in the range [0, 255] to a torch.FloatTensor of shape (C x H x W) in the range [0.0, 1.0]\n",
    "    transforms.ToTensor(),\n",
    "    # 规范化至 [-1,1]\n",
    "    transforms.Normalize((0.5, 0.5, 0.5), (0.5, 0.5, 0.5)),\n",
    "\n",
    "\n",
    "])"
   ]
  },
  {
   "cell_type": "code",
   "execution_count": null,
   "id": "dd17dfb8-116b-45dc-b890-b32e5593a050",
   "metadata": {},
   "outputs": [],
   "source": [
    "# 从文件夹读取图片\n",
    "dataset = tdst.ImageFolder(root='./data/',transform=img_preprocess)"
   ]
  },
  {
   "cell_type": "code",
   "execution_count": null,
   "id": "b765d498-63ed-4110-94d4-8ba7d0566c82",
   "metadata": {},
   "outputs": [],
   "source": [
    "# 查看图片大小\n",
    "len(dataset)"
   ]
  },
  {
   "cell_type": "code",
   "execution_count": null,
   "id": "4714cf5f-d5b9-4cf1-9279-89ed4ef38ae9",
   "metadata": {},
   "outputs": [],
   "source": [
    "# 查看最小值和最大值\n",
    "dataset[0][0].max(),dataset[0][0].min()"
   ]
  },
  {
   "cell_type": "code",
   "execution_count": null,
   "id": "5a96d609-d20f-48ac-992a-5fc7047afe73",
   "metadata": {},
   "outputs": [],
   "source": [
    "BATCH_SIZE = 128"
   ]
  },
  {
   "cell_type": "code",
   "execution_count": null,
   "id": "1096a6ee-dd34-4cf8-a0d8-e800bb500f42",
   "metadata": {},
   "outputs": [],
   "source": [
    "# 训练的加载器\n",
    "dataloader = torch.utils.data.DataLoader(dataset,batch_size= BATCH_SIZE,shuffle=True)"
   ]
  },
  {
   "cell_type": "code",
   "execution_count": null,
   "id": "f1b3e599-7bf1-44c0-a761-6ac4117e4cd3",
   "metadata": {},
   "outputs": [],
   "source": [
    "# 查看批次数量\n",
    "len(dataloader)"
   ]
  },
  {
   "cell_type": "code",
   "execution_count": null,
   "id": "1c1d2fef-d971-406b-ab2a-d3b98c1aaf90",
   "metadata": {},
   "outputs": [],
   "source": [
    "# 显示几张\n",
    "for x in dataloader:\n",
    "    # 设置画布大小\n",
    "    fig = plt.figure(figsize=(8,8))\n",
    "    \n",
    "    for i in range(16):\n",
    "        # 图片位置\n",
    "        plt.subplot(4,4,i+1)\n",
    "        # 转为numpy\n",
    "        img = x[0][i].numpy()\n",
    "        # 调整 通道顺序为PIL格式\n",
    "        img =  np.transpose(img,(1,2,0))\n",
    "        # 先转到[0,1]，再乘以255\n",
    "        img =(img + 1 )/ 2 * 255\n",
    "        # 取整\n",
    "        img = img.astype('int')\n",
    "        # 显示\n",
    "        plt.imshow(img)\n",
    "        plt.axis('off')\n",
    "    plt.show()\n",
    "    break"
   ]
  },
  {
   "cell_type": "code",
   "execution_count": null,
   "id": "53cf4b71-f006-4ef9-bf47-50ff012f9698",
   "metadata": {},
   "outputs": [],
   "source": [
    "# 显示网络架构"
   ]
  },
  {
   "cell_type": "markdown",
   "id": "e9ea0ef9-a9f5-4b1c-84d5-707f9ab1eb59",
   "metadata": {},
   "source": [
    "![](./data/model_arc_1.png)"
   ]
  },
  {
   "cell_type": "code",
   "execution_count": null,
   "id": "8c416f93-0dcb-4a41-bd57-13b5eb3e0d14",
   "metadata": {},
   "outputs": [],
   "source": [
    "# G生成网络"
   ]
  },
  {
   "cell_type": "code",
   "execution_count": null,
   "id": "c8090915-901d-4b20-a272-825e9f72252d",
   "metadata": {},
   "outputs": [],
   "source": [
    "import torch.nn as nn"
   ]
  },
  {
   "cell_type": "code",
   "execution_count": null,
   "id": "5cb3e178-fedf-47ae-8929-3088509e31b3",
   "metadata": {},
   "outputs": [],
   "source": [
    "class G_model(nn.Module):\n",
    "    def __init__(self):\n",
    "        super(G_model,self).__init__()\n",
    "        self.main = nn.Sequential(\n",
    "            # input: 100 x 1 x \n",
    "            # !!! stride and padding\n",
    "            # output: 512 x 4 x 4\n",
    "            nn.ConvTranspose2d(in_channels=100,out_channels=512,kernel_size=4,stride=1,padding=0,bias=False),\n",
    "            # BN\n",
    "            nn.BatchNorm2d(num_features=512),\n",
    "            # Relu\n",
    "            nn.ReLU(inplace=True),\n",
    "            \n",
    "            \n",
    "            # input: 512 x 4 x4 \n",
    "            # output : 256 x 8 x 8\n",
    "            nn.ConvTranspose2d(in_channels=512,out_channels=256,kernel_size=4,stride=2,padding=1,bias=False),\n",
    "            # BN\n",
    "            nn.BatchNorm2d(num_features=256),\n",
    "            # Relu\n",
    "            nn.ReLU(inplace=True),\n",
    "            \n",
    "            # input: 256 x 8 x8\n",
    "            # output: 128 x 16 x 16\n",
    "            nn.ConvTranspose2d(in_channels=256,out_channels=128,kernel_size=4,stride=2,padding=1,bias=False),\n",
    "            nn.BatchNorm2d(num_features=128),\n",
    "            nn.ReLU(inplace=True),\n",
    "            \n",
    "            # input : 128 x 16 x 16 \n",
    "            # output: 64 x 32 x 32\n",
    "            nn.ConvTranspose2d(in_channels=128,out_channels=64,kernel_size=4,stride=2,padding=1,bias=False),\n",
    "            nn.BatchNorm2d(num_features=64),\n",
    "            nn.ReLU(inplace=True),\n",
    "            \n",
    "            # input: 64 x 32 x 32\n",
    "            # output: 3 x 64 x 64\n",
    "            nn.ConvTranspose2d(in_channels=64,out_channels=3,kernel_size=4,stride=2,padding=1,bias=False),\n",
    "            # tanh\n",
    "            nn.Tanh()\n",
    "            \n",
    "        \n",
    "        )\n",
    "    \n",
    "    def forward(self,input):\n",
    "        return self.main(input)"
   ]
  },
  {
   "cell_type": "code",
   "execution_count": null,
   "id": "6cedb023-5ff5-41d6-aa98-3a605adc3a80",
   "metadata": {},
   "outputs": [],
   "source": [
    "# device\n",
    "device = torch.device(\"cuda:0\" if torch.cuda.is_available() else \"cpu\")"
   ]
  },
  {
   "cell_type": "code",
   "execution_count": null,
   "id": "c215c7ea-2e86-4664-80a2-9c3e7e3c794a",
   "metadata": {},
   "outputs": [],
   "source": [
    "device"
   ]
  },
  {
   "cell_type": "code",
   "execution_count": null,
   "id": "699982d5-3c73-4721-82a5-33bad26b2805",
   "metadata": {},
   "outputs": [],
   "source": [
    "# 实例化\n",
    "G_model = G_model().to(device)"
   ]
  },
  {
   "cell_type": "code",
   "execution_count": null,
   "id": "3cfb9eb3-670a-4e0e-9398-9347d5be8301",
   "metadata": {},
   "outputs": [],
   "source": [
    "print(G_model)"
   ]
  },
  {
   "cell_type": "code",
   "execution_count": null,
   "id": "9392ac42-e721-4539-83da-80dd89c05434",
   "metadata": {},
   "outputs": [],
   "source": [
    "# 查看架构\n",
    "summary(G_model,(100, 1, 1))"
   ]
  },
  {
   "cell_type": "code",
   "execution_count": null,
   "id": "6e7d9ead-f21a-4d79-ae6b-0e804d18e10f",
   "metadata": {},
   "outputs": [],
   "source": [
    "# 构建一个大小为100x1x1的随机张量（CHW）\n",
    "fixed_noise = torch.randn(1, 100, 1, 1, device=device)\n",
    "fake_imgs = G_model(fixed_noise)\n",
    "fake_imgs_np = fake_imgs.detach().cpu().numpy()"
   ]
  },
  {
   "cell_type": "code",
   "execution_count": null,
   "id": "d345a4a1-bbb3-48bb-84d3-dfacc9669f5e",
   "metadata": {},
   "outputs": [],
   "source": [
    "fake_imgs_np.shape"
   ]
  },
  {
   "cell_type": "code",
   "execution_count": null,
   "id": "e9286748-9380-4092-a699-e6f5c3666524",
   "metadata": {},
   "outputs": [],
   "source": [
    "plt.imshow(np.transpose(fake_imgs_np[0],(1,2,0)))"
   ]
  },
  {
   "cell_type": "markdown",
   "id": "e41260c9-8619-4c8d-acd3-47c2e1e31402",
   "metadata": {},
   "source": [
    "![](./data/model_arc_1.png)"
   ]
  },
  {
   "cell_type": "code",
   "execution_count": null,
   "id": "87ec4d3a-9c1e-414e-86e2-1614ef5baf7c",
   "metadata": {},
   "outputs": [],
   "source": [
    "#定义D判别网络"
   ]
  },
  {
   "cell_type": "code",
   "execution_count": null,
   "id": "60566020-9f37-4f8e-930b-f69aca472b22",
   "metadata": {},
   "outputs": [],
   "source": [
    "class D_model(nn.Module):\n",
    "    def __init__(self):\n",
    "        super(D_model,self).__init__()\n",
    "        self.main = nn.Sequential(\n",
    "            # input： 3 x 64 x 64\n",
    "            # output: 64 x 32 x 32\n",
    "            nn.Conv2d(in_channels=3,out_channels=64,kernel_size=4,stride=2,padding=1,bias=False),\n",
    "            # Relu\n",
    "            nn.LeakyReLU(0.2,inplace=True),\n",
    "            \n",
    "            # input: 64 x 32 x 32\n",
    "            # output: 128 x 16 x 16\n",
    "            nn.Conv2d(in_channels=64,out_channels=128,kernel_size=4,stride=2,padding=1,bias=False),\n",
    "            # BN\n",
    "            nn.BatchNorm2d(128),\n",
    "            # relu\n",
    "            nn.LeakyReLU(0.2,inplace=True),\n",
    "            \n",
    "            \n",
    "            # input: 128 x 16 x 16\n",
    "            # output : 256 x 8 x 8\n",
    "            nn.Conv2d(in_channels=128,out_channels=256,kernel_size=4,stride=2,padding=1,bias=False),\n",
    "            nn.BatchNorm2d(256),\n",
    "            nn.LeakyReLU(0.2,inplace=True),\n",
    "            \n",
    "            # input : 256 x 8 x 8\n",
    "            # output : 512 x 4 x 4\n",
    "            nn.Conv2d(in_channels=256,out_channels=512,kernel_size=4,stride=2,padding=1,bias=False),\n",
    "            nn.BatchNorm2d(512),\n",
    "            nn.LeakyReLU(0.2,inplace=True),\n",
    "            \n",
    "            #  拉直：8192\n",
    "            nn.Flatten(),\n",
    "            # 变成 1\n",
    "            nn.Linear(8192,1),\n",
    "            # sigmoid\n",
    "            nn.Sigmoid()\n",
    "            \n",
    "        )\n",
    "    \n",
    "    def forward(self,input):\n",
    "        return self.main(input)"
   ]
  },
  {
   "cell_type": "code",
   "execution_count": null,
   "id": "6ca1e226-ba84-4b07-baea-db523b961d91",
   "metadata": {},
   "outputs": [],
   "source": [
    "# 实例化\n",
    "D_model = D_model().to(device)"
   ]
  },
  {
   "cell_type": "code",
   "execution_count": null,
   "id": "0b105745-c0b4-4203-919e-b0344a853919",
   "metadata": {},
   "outputs": [],
   "source": [
    "# 查看网络架构\n",
    "summary(D_model,(3, 64, 64))"
   ]
  },
  {
   "cell_type": "code",
   "execution_count": null,
   "id": "8218c8f2-05fd-413b-b23d-d95d21692abd",
   "metadata": {},
   "outputs": [],
   "source": [
    "# 将产生的图片输入D"
   ]
  },
  {
   "cell_type": "code",
   "execution_count": null,
   "id": "b5351474-72b5-4fe4-885e-f9f1089bfd44",
   "metadata": {},
   "outputs": [],
   "source": [
    "output = D_model(fake_imgs)"
   ]
  },
  {
   "cell_type": "code",
   "execution_count": null,
   "id": "d25dc5ea-910e-4f49-bd26-4c09429678a5",
   "metadata": {},
   "outputs": [],
   "source": [
    "output"
   ]
  },
  {
   "cell_type": "code",
   "execution_count": null,
   "id": "6fdff972-5dde-4728-8db8-05edec9bcf90",
   "metadata": {},
   "outputs": [],
   "source": [
    "# 去除多余维度\n",
    "output.view(-1)"
   ]
  },
  {
   "cell_type": "code",
   "execution_count": null,
   "id": "f29391ca-4ed0-44ed-b320-529c8f6921e5",
   "metadata": {},
   "outputs": [],
   "source": [
    "# loss损失函数\n",
    "loss_fun = nn.BCELoss()"
   ]
  },
  {
   "cell_type": "code",
   "execution_count": null,
   "id": "15f37940",
   "metadata": {},
   "outputs": [],
   "source": [
    "# 优化器\n",
    "D_optimizer = optim.Adam(D_model.parameters(),lr=0.0002,betas=(0.5, 0.999))                        \n",
    "G_optimizer = optim.Adam(G_model.parameters(),lr=0.0002,betas=(0.5, 0.999))\n"
   ]
  },
  {
   "cell_type": "code",
   "execution_count": null,
   "id": "805869e1-14df-4695-94a4-6a4f51af42d4",
   "metadata": {},
   "outputs": [],
   "source": [
    "# 开始训练"
   ]
  },
  {
   "cell_type": "code",
   "execution_count": null,
   "id": "1d94bb81-1e6e-416a-bcd3-0395fc99a4f3",
   "metadata": {},
   "outputs": [],
   "source": [
    "import time"
   ]
  },
  {
   "cell_type": "code",
   "execution_count": null,
   "id": "48f51b8e-3be5-4f27-b321-45a9f9012ea3",
   "metadata": {},
   "outputs": [],
   "source": [
    "# 训练100个epoch\n",
    "EPOCH_NUM = 100\n",
    "\n",
    "for epoch in range(EPOCH_NUM):\n",
    "    # 获取批次图像\n",
    "    start_time = time.time()\n",
    "    for i,data in enumerate(dataloader):\n",
    "        #----------------------训练D：真实数据标记为1------------------------\n",
    "        # ！！！每次update前清空梯度\n",
    "        D_model.zero_grad()\n",
    "        # 获取数据\n",
    "        imgs_batch = data[0].to(device)\n",
    "        # batch_size，最后不可以用BATCH_SIZE，因为数据集数量可能不能被BATCH_SIZE整除\n",
    "        b_size = imgs_batch.size(0)\n",
    "        # 计算输出\n",
    "        output = D_model(imgs_batch).view(-1)\n",
    "        # 构建全1向量label\n",
    "        ones_label = torch.full((b_size,),1,dtype=torch.float,device=device)\n",
    "        # 计算loss\n",
    "        d_loss_real = loss_fun(output,ones_label)\n",
    "        # 计算梯度\n",
    "        d_loss_real.backward()\n",
    "        # 反向传播优化\n",
    "        D_optimizer.step()\n",
    "        \n",
    "        # -------------------训练D：假数据标记为0-------------------------------\n",
    "        # 清除梯度\n",
    "        D_model.zero_grad()\n",
    "        # 构建随机张量\n",
    "        noise_tensor = torch.randn(b_size,100,1,1,device=device)\n",
    "        # 生成假的图片\n",
    "        generated_imgs = G_model(noise_tensor)\n",
    "        # 假图片的输出，此时不需要训练G，可以detach\n",
    "        output = D_model(generated_imgs.detach()).view(-1)\n",
    "        \n",
    "        # 构建全0向量\n",
    "        zeros_label = torch.full((b_size,),0,dtype=torch.float,device=device)\n",
    "        # 计算loss\n",
    "        d_loss_fake = loss_fun(output,zeros_label)\n",
    "        # 计算梯度\n",
    "        d_loss_fake.backward()\n",
    "        # 优化\n",
    "        D_optimizer.step()\n",
    "        \n",
    "        \n",
    "        # ----------------------训练G 网络：假数据标记为1--------------------\n",
    "        # 清除梯度\n",
    "        G_model.zero_grad()\n",
    "        # 随机张量\n",
    "        noise_tensor = torch.randn(b_size,100,1,1,device=device)\n",
    "        # 生成假的图片\n",
    "        generated_imgs = G_model(noise_tensor)\n",
    "        # !!!!!!!!!!!!!! 假图片的输出，这里不可以detach，否则学习不到\n",
    "        output = D_model(generated_imgs).view(-1)\n",
    "        \n",
    "        # 构建全1向量\n",
    "        ones_label = torch.full((b_size,),1,dtype=torch.float,device=device)\n",
    "        # 计算loss\n",
    "        g_loss = loss_fun(output,ones_label)\n",
    "        # 计算梯度\n",
    "        g_loss.backward()\n",
    "        # 优化\n",
    "        G_optimizer.step()\n",
    "        \n",
    "    \n",
    "    # 打印训练时间\n",
    "    print('第{}个epoch执行时间：{}s'.format(epoch,time.time()-start_time))\n",
    "    # 每一个epoch输出结果\n",
    "    # 用no_grad表示不跟踪梯度\n",
    "    with torch.no_grad():\n",
    "        # 生成16 个随机张量\n",
    "        fixed_noise = torch.randn(16, 100, 1, 1, device=device)\n",
    "        # 生成的图片\n",
    "        fake_imgs = G_model(fixed_noise).detach().cpu().numpy()\n",
    "        # 画布大小\n",
    "        fig = plt.figure(figsize=(10, 10))\n",
    "        for i in range(fake_imgs.shape[0]):\n",
    "            plt.subplot(4, 4, i+1)\n",
    "            img =  np.transpose(fake_imgs[i],(1,2,0))\n",
    "            img =(img+1 )/ 2 * 255\n",
    "            img = img.astype('int')\n",
    "            plt.imshow(img)\n",
    "            plt.axis('off')\n",
    "        plt.show()\n",
    "        \n",
    "        \n",
    "        \n",
    "        \n",
    "        "
   ]
  },
  {
   "cell_type": "code",
   "execution_count": null,
   "id": "d768a8b0-be01-4453-b671-3f75dd3fecab",
   "metadata": {},
   "outputs": [],
   "source": [
    "# 保存模型\n",
    "torch.save(netG.state_dict(), './models/g_model_course.pt')"
   ]
  }
 ],
 "metadata": {
  "kernelspec": {
   "display_name": "Python 3 (ipykernel)",
   "language": "python",
   "name": "python3"
  },
  "language_info": {
   "codemirror_mode": {
    "name": "ipython",
    "version": 3
   },
   "file_extension": ".py",
   "mimetype": "text/x-python",
   "name": "python",
   "nbconvert_exporter": "python",
   "pygments_lexer": "ipython3",
   "version": "3.8.13"
  }
 },
 "nbformat": 4,
 "nbformat_minor": 5
}
