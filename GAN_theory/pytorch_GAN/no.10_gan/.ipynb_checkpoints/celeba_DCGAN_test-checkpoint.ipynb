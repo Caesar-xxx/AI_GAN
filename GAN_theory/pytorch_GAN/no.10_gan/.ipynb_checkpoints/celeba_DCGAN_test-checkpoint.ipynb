{
 "cells": [
  {
   "cell_type": "code",
   "execution_count": null,
   "id": "228a445c-3516-4c8f-9bec-16e846b8a95b",
   "metadata": {},
   "outputs": [],
   "source": [
    "# 导入相关包\n",
    "import torch\n",
    "import torch.nn as nn\n",
    "import numpy as np\n",
    "import matplotlib.pyplot as plt\n",
    "import time"
   ]
  },
  {
   "cell_type": "code",
   "execution_count": null,
   "id": "0a7b1c8e-698b-4e91-b5ad-abde60b10e23",
   "metadata": {},
   "outputs": [],
   "source": [
    "class G_model(nn.Module):\n",
    "    def __init__(self):\n",
    "        super(G_model,self).__init__()\n",
    "        self.main = nn.Sequential(\n",
    "            # input: 100 x 1 x \n",
    "            # !!! stride and padding\n",
    "            # output: 512 x 4 x 4\n",
    "            nn.ConvTranspose2d(in_channels=100,out_channels=512,kernel_size=4,stride=1,padding=0,bias=False),\n",
    "            # BN\n",
    "            nn.BatchNorm2d(num_features=512),\n",
    "            # Relu\n",
    "            nn.ReLU(inplace=True),\n",
    "            \n",
    "            \n",
    "            # input: 512 x 4 x4 \n",
    "            # output : 256 x 8 x 8\n",
    "            nn.ConvTranspose2d(in_channels=512,out_channels=256,kernel_size=4,stride=2,padding=1,bias=False),\n",
    "            # BN\n",
    "            nn.BatchNorm2d(num_features=256),\n",
    "            # Relu\n",
    "            nn.ReLU(inplace=True),\n",
    "            \n",
    "            # input: 256 x 8 x8\n",
    "            # output: 128 x 16 x 16\n",
    "            nn.ConvTranspose2d(in_channels=256,out_channels=128,kernel_size=4,stride=2,padding=1,bias=False),\n",
    "            nn.BatchNorm2d(num_features=128),\n",
    "            nn.ReLU(inplace=True),\n",
    "            \n",
    "            # input : 128 x 16 x 16 \n",
    "            # output: 64 x 32 x 32\n",
    "            nn.ConvTranspose2d(in_channels=128,out_channels=64,kernel_size=4,stride=2,padding=1,bias=False),\n",
    "            nn.BatchNorm2d(num_features=64),\n",
    "            nn.ReLU(inplace=True),\n",
    "            \n",
    "            # input: 64 x 32 x 32\n",
    "            # output: 3 x 64 x 64\n",
    "            nn.ConvTranspose2d(in_channels=64,out_channels=3,kernel_size=4,stride=2,padding=1,bias=False),\n",
    "            # tanh\n",
    "            nn.Tanh()\n",
    "            \n",
    "        \n",
    "        )\n",
    "    \n",
    "    def forward(self,input):\n",
    "        return self.main(input)"
   ]
  },
  {
   "cell_type": "code",
   "execution_count": null,
   "id": "a1d17226-05c7-4c23-88ab-4ff3d60bf6a1",
   "metadata": {},
   "outputs": [],
   "source": [
    "device =  torch.device(\"cuda:0\")"
   ]
  },
  {
   "cell_type": "code",
   "execution_count": null,
   "id": "3509b662-68f4-4536-adfd-4d2ed4eb7467",
   "metadata": {},
   "outputs": [],
   "source": [
    "netG = G_model().to(device)\n",
    "netG.load_state_dict(torch.load('./models/g_model.pt'))\n",
    "netG.eval()"
   ]
  },
  {
   "cell_type": "code",
   "execution_count": null,
   "id": "573d0d8a-351b-416d-8e67-1b8580d731ae",
   "metadata": {},
   "outputs": [],
   "source": [
    "def randomGenerate():\n",
    "    fixed_noise = torch.randn(16, 100, 1, 1, device=device)\n",
    "    fake_imgs = netG(fixed_noise).detach().cpu().numpy()\n",
    "    fig = plt.figure(figsize=(10, 10))\n",
    "    for i in range(fake_imgs.shape[0]):\n",
    "        plt.subplot(4, 4, i+1)\n",
    "        img =  np.transpose(fake_imgs[i],(1,2,0))\n",
    "        img =(img+1 )/ 2 * 255\n",
    "        img = img.astype('int')\n",
    "        plt.imshow(img)\n",
    "        plt.axis('off')\n",
    "    plt.show()"
   ]
  },
  {
   "cell_type": "code",
   "execution_count": null,
   "id": "44baee14-6002-492c-ba0b-3c1bd0d28f1a",
   "metadata": {},
   "outputs": [],
   "source": [
    "from IPython.display import clear_output"
   ]
  },
  {
   "cell_type": "code",
   "execution_count": null,
   "id": "0778beb2-1324-418d-839f-fd4578dd9920",
   "metadata": {},
   "outputs": [],
   "source": [
    "count = 0\n",
    "while True:\n",
    "    randomGenerate()\n",
    "    clear_output(wait=True)\n",
    "    time.sleep(0.1)\n",
    "    # if count > 20:\n",
    "    #     break\n",
    "    count+=1\n"
   ]
  },
  {
   "cell_type": "code",
   "execution_count": null,
   "id": "7e5a0163-7ce0-4f43-9570-c5a4d7f564bb",
   "metadata": {},
   "outputs": [],
   "source": []
  },
  {
   "cell_type": "code",
   "execution_count": null,
   "id": "f02ad7d9-2882-4697-b89c-f5ce26870660",
   "metadata": {},
   "outputs": [],
   "source": []
  },
  {
   "cell_type": "code",
   "execution_count": null,
   "id": "8efa439d-1193-4cc5-9533-0135a5de3647",
   "metadata": {},
   "outputs": [],
   "source": []
  }
 ],
 "metadata": {
  "kernelspec": {
   "display_name": "Python 3 (ipykernel)",
   "language": "python",
   "name": "python3"
  },
  "language_info": {
   "codemirror_mode": {
    "name": "ipython",
    "version": 3
   },
   "file_extension": ".py",
   "mimetype": "text/x-python",
   "name": "python",
   "nbconvert_exporter": "python",
   "pygments_lexer": "ipython3",
   "version": "3.8.13"
  }
 },
 "nbformat": 4,
 "nbformat_minor": 5
}
